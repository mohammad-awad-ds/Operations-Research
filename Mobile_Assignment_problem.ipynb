{
  "cells": [
    {
      "cell_type": "markdown",
      "metadata": {},
      "source": [
        "### Implemented by Mohammad Awad on 11-Mar-2023"
      ]
    },
    {
      "attachments": {},
      "cell_type": "markdown",
      "metadata": {},
      "source": [
        "#### Implementation for the mobile assignment problem faced in operational research on python CPLEX."
      ]
    },
    {
      "cell_type": "code",
      "execution_count": 77,
      "metadata": {
        "id": "AethuMnffBnS"
      },
      "outputs": [],
      "source": [
        "#!pip install cplex\n",
        "#!pip install docplex"
      ]
    },
    {
      "cell_type": "code",
      "execution_count": 78,
      "metadata": {
        "id": "HGmvF8cQfAD2"
      },
      "outputs": [],
      "source": [
        "import cplex\n",
        "import docplex"
      ]
    },
    {
      "cell_type": "code",
      "execution_count": 79,
      "metadata": {
        "id": "r_0YXm4QfAD3"
      },
      "outputs": [],
      "source": [
        "from docplex.mp.model import Model\n",
        "m = Model(name = 'Mobile Assignment problem')"
      ]
    },
    {
      "cell_type": "code",
      "execution_count": 80,
      "metadata": {
        "colab": {
          "base_uri": "https://localhost:8080/"
        },
        "id": "R-az8hlyoNDY",
        "outputId": "61bec0c6-b2be-4700-e0b0-c00cf196835c"
      },
      "outputs": [
        {
          "name": "stdout",
          "output_type": "stream",
          "text": [
            "[1, 2, 3, 4] [1, 2, 3, 4, 5, 6, 7, 8, 9, 10]\n"
          ]
        }
      ],
      "source": [
        "#Sets/Indecies\n",
        "S=[1, 2, 3, 4] #student number\n",
        "P=list(range(1,11)) #phone options\n",
        "print(S, P)"
      ]
    },
    {
      "cell_type": "code",
      "execution_count": 81,
      "metadata": {
        "id": "C7-A-QcZQE5v"
      },
      "outputs": [],
      "source": [
        "#Data\n",
        "Rating_sp={'Ahmad':[1, 10, 9, 2, 8, 3, 7, 6 , 4, 5],\n",
        "            \"Ali\":[8 ,1 ,4 ,2 ,5 ,3 ,10 , 9, 7, 6],\n",
        "            \"Zaid\":[1, 3 , 2, 8, 5, 4, 6, 7, 9, 10],\n",
        "            \"Noor\":[5, 4, 1, 3, 8, 6, 7, 2, 10, 9]} #phone rating per student\n"
      ]
    },
    {
      "cell_type": "code",
      "execution_count": 82,
      "metadata": {
        "colab": {
          "base_uri": "https://localhost:8080/"
        },
        "id": "c_ir6xGkQHhP",
        "outputId": "fef60338-a953-4fab-c926-d454174ecd5c"
      },
      "outputs": [
        {
          "data": {
            "text/plain": [
              "{('Ahmad', 1): docplex.mp.Var(type=B,name='Phone Given to Ahmad_1'),\n",
              " ('Ahmad', 2): docplex.mp.Var(type=B,name='Phone Given to Ahmad_2'),\n",
              " ('Ahmad', 3): docplex.mp.Var(type=B,name='Phone Given to Ahmad_3'),\n",
              " ('Ahmad', 4): docplex.mp.Var(type=B,name='Phone Given to Ahmad_4'),\n",
              " ('Ahmad', 5): docplex.mp.Var(type=B,name='Phone Given to Ahmad_5'),\n",
              " ('Ahmad', 6): docplex.mp.Var(type=B,name='Phone Given to Ahmad_6'),\n",
              " ('Ahmad', 7): docplex.mp.Var(type=B,name='Phone Given to Ahmad_7'),\n",
              " ('Ahmad', 8): docplex.mp.Var(type=B,name='Phone Given to Ahmad_8'),\n",
              " ('Ahmad', 9): docplex.mp.Var(type=B,name='Phone Given to Ahmad_9'),\n",
              " ('Ahmad', 10): docplex.mp.Var(type=B,name='Phone Given to Ahmad_10'),\n",
              " ('Ali', 1): docplex.mp.Var(type=B,name='Phone Given to Ali_1'),\n",
              " ('Ali', 2): docplex.mp.Var(type=B,name='Phone Given to Ali_2'),\n",
              " ('Ali', 3): docplex.mp.Var(type=B,name='Phone Given to Ali_3'),\n",
              " ('Ali', 4): docplex.mp.Var(type=B,name='Phone Given to Ali_4'),\n",
              " ('Ali', 5): docplex.mp.Var(type=B,name='Phone Given to Ali_5'),\n",
              " ('Ali', 6): docplex.mp.Var(type=B,name='Phone Given to Ali_6'),\n",
              " ('Ali', 7): docplex.mp.Var(type=B,name='Phone Given to Ali_7'),\n",
              " ('Ali', 8): docplex.mp.Var(type=B,name='Phone Given to Ali_8'),\n",
              " ('Ali', 9): docplex.mp.Var(type=B,name='Phone Given to Ali_9'),\n",
              " ('Ali', 10): docplex.mp.Var(type=B,name='Phone Given to Ali_10'),\n",
              " ('Zaid', 1): docplex.mp.Var(type=B,name='Phone Given to Zaid_1'),\n",
              " ('Zaid', 2): docplex.mp.Var(type=B,name='Phone Given to Zaid_2'),\n",
              " ('Zaid', 3): docplex.mp.Var(type=B,name='Phone Given to Zaid_3'),\n",
              " ('Zaid', 4): docplex.mp.Var(type=B,name='Phone Given to Zaid_4'),\n",
              " ('Zaid', 5): docplex.mp.Var(type=B,name='Phone Given to Zaid_5'),\n",
              " ('Zaid', 6): docplex.mp.Var(type=B,name='Phone Given to Zaid_6'),\n",
              " ('Zaid', 7): docplex.mp.Var(type=B,name='Phone Given to Zaid_7'),\n",
              " ('Zaid', 8): docplex.mp.Var(type=B,name='Phone Given to Zaid_8'),\n",
              " ('Zaid', 9): docplex.mp.Var(type=B,name='Phone Given to Zaid_9'),\n",
              " ('Zaid', 10): docplex.mp.Var(type=B,name='Phone Given to Zaid_10'),\n",
              " ('Noor', 1): docplex.mp.Var(type=B,name='Phone Given to Noor_1'),\n",
              " ('Noor', 2): docplex.mp.Var(type=B,name='Phone Given to Noor_2'),\n",
              " ('Noor', 3): docplex.mp.Var(type=B,name='Phone Given to Noor_3'),\n",
              " ('Noor', 4): docplex.mp.Var(type=B,name='Phone Given to Noor_4'),\n",
              " ('Noor', 5): docplex.mp.Var(type=B,name='Phone Given to Noor_5'),\n",
              " ('Noor', 6): docplex.mp.Var(type=B,name='Phone Given to Noor_6'),\n",
              " ('Noor', 7): docplex.mp.Var(type=B,name='Phone Given to Noor_7'),\n",
              " ('Noor', 8): docplex.mp.Var(type=B,name='Phone Given to Noor_8'),\n",
              " ('Noor', 9): docplex.mp.Var(type=B,name='Phone Given to Noor_9'),\n",
              " ('Noor', 10): docplex.mp.Var(type=B,name='Phone Given to Noor_10')}"
            ]
          },
          "execution_count": 82,
          "metadata": {},
          "output_type": "execute_result"
        }
      ],
      "source": [
        "#DV\n",
        "dv=((name, phone) for name in Rating_sp.keys() for phone in P)\n",
        "Xsp=m.binary_var_dict(dv,0,1,name='Phone Given to %s')\n",
        "Xsp"
      ]
    },
    {
      "cell_type": "code",
      "execution_count": 85,
      "metadata": {
        "id": "ME1d9UjpTcM4"
      },
      "outputs": [],
      "source": [
        "#Obj Function\n",
        "m.maximize(m.sum(m.sum(Rating_sp[s][p-1]*Xsp[(s,p)] for p in P) for s in Rating_sp.keys()))"
      ]
    },
    {
      "cell_type": "code",
      "execution_count": 87,
      "metadata": {
        "colab": {
          "base_uri": "https://localhost:8080/"
        },
        "id": "PTcUHmD2aOwZ",
        "outputId": "a3b39609-6aec-4212-e855-d65d6a3eb800"
      },
      "outputs": [
        {
          "data": {
            "text/plain": [
              "[docplex.mp.LinearConstraint[](Phone Given to Ahmad_1+Phone Given to Ahmad_2+Phone Given to Ahmad_3+Phone Given to Ahmad_4+Phone Given to Ahmad_5+Phone Given to Ahmad_6+Phone Given to Ahmad_7+Phone Given to Ahmad_8+Phone Given to Ahmad_9+Phone Given to Ahmad_10,EQ,2),\n",
              " docplex.mp.LinearConstraint[](Phone Given to Ali_1+Phone Given to Ali_2+Phone Given to Ali_3+Phone Given to Ali_4+Phone Given to Ali_5+Phone Given to Ali_6+Phone Given to Ali_7+Phone Given to Ali_8+Phone Given to Ali_9+Phone Given to Ali_10,EQ,2),\n",
              " docplex.mp.LinearConstraint[](Phone Given to Zaid_1+Phone Given to Zaid_2+Phone Given to Zaid_3+Phone Given to Zaid_4+Phone Given to Zaid_5+Phone Given to Zaid_6+Phone Given to Zaid_7+Phone Given to Zaid_8+Phone Given to Zaid_9+Phone Given to Zaid_10,EQ,2),\n",
              " docplex.mp.LinearConstraint[](Phone Given to Noor_1+Phone Given to Noor_2+Phone Given to Noor_3+Phone Given to Noor_4+Phone Given to Noor_5+Phone Given to Noor_6+Phone Given to Noor_7+Phone Given to Noor_8+Phone Given to Noor_9+Phone Given to Noor_10,EQ,2)]"
            ]
          },
          "execution_count": 87,
          "metadata": {},
          "output_type": "execute_result"
        }
      ],
      "source": [
        "#constraints\n",
        "m.add_constraints([m.sum(Xsp[(s,p)] for p in P) == 2 for s in Rating_sp.keys()])"
      ]
    },
    {
      "cell_type": "code",
      "execution_count": 88,
      "metadata": {
        "colab": {
          "base_uri": "https://localhost:8080/"
        },
        "id": "hM6zz1dQZHSG",
        "outputId": "d37ae1ca-9b90-472a-99b1-d5f439372e31"
      },
      "outputs": [
        {
          "data": {
            "text/plain": [
              "[docplex.mp.LinearConstraint[](Phone Given to Ahmad_1+Phone Given to Ali_1+Phone Given to Zaid_1+Phone Given to Noor_1,LE,1),\n",
              " docplex.mp.LinearConstraint[](Phone Given to Ahmad_2+Phone Given to Ali_2+Phone Given to Zaid_2+Phone Given to Noor_2,LE,1),\n",
              " docplex.mp.LinearConstraint[](Phone Given to Ahmad_3+Phone Given to Ali_3+Phone Given to Zaid_3+Phone Given to Noor_3,LE,1),\n",
              " docplex.mp.LinearConstraint[](Phone Given to Ahmad_4+Phone Given to Ali_4+Phone Given to Zaid_4+Phone Given to Noor_4,LE,1),\n",
              " docplex.mp.LinearConstraint[](Phone Given to Ahmad_5+Phone Given to Ali_5+Phone Given to Zaid_5+Phone Given to Noor_5,LE,1),\n",
              " docplex.mp.LinearConstraint[](Phone Given to Ahmad_6+Phone Given to Ali_6+Phone Given to Zaid_6+Phone Given to Noor_6,LE,1),\n",
              " docplex.mp.LinearConstraint[](Phone Given to Ahmad_7+Phone Given to Ali_7+Phone Given to Zaid_7+Phone Given to Noor_7,LE,1),\n",
              " docplex.mp.LinearConstraint[](Phone Given to Ahmad_8+Phone Given to Ali_8+Phone Given to Zaid_8+Phone Given to Noor_8,LE,1),\n",
              " docplex.mp.LinearConstraint[](Phone Given to Ahmad_9+Phone Given to Ali_9+Phone Given to Zaid_9+Phone Given to Noor_9,LE,1),\n",
              " docplex.mp.LinearConstraint[](Phone Given to Ahmad_10+Phone Given to Ali_10+Phone Given to Zaid_10+Phone Given to Noor_10,LE,1)]"
            ]
          },
          "execution_count": 88,
          "metadata": {},
          "output_type": "execute_result"
        }
      ],
      "source": [
        "m.add_constraints([m.sum(Xsp[(s,p)] for s in Rating_sp.keys()) <= 1 for p in P])"
      ]
    },
    {
      "cell_type": "code",
      "execution_count": 89,
      "metadata": {
        "colab": {
          "base_uri": "https://localhost:8080/",
          "height": 36
        },
        "id": "g4GSusDZcczR",
        "outputId": "c24730ff-3b5f-4cfb-a85a-04b1a87ac1ae"
      },
      "outputs": [
        {
          "data": {
            "application/vnd.google.colaboratory.intrinsic+json": {
              "type": "string"
            },
            "text/plain": [
              "'MobileAssignment.lp'"
            ]
          },
          "execution_count": 89,
          "metadata": {},
          "output_type": "execute_result"
        }
      ],
      "source": [
        "m.export_as_lp('MobileAssignment.lp')"
      ]
    },
    {
      "cell_type": "code",
      "execution_count": 90,
      "metadata": {
        "colab": {
          "base_uri": "https://localhost:8080/"
        },
        "id": "S-_awXJFcpRS",
        "outputId": "ec0ddfb5-0b4b-431b-cfe1-1f8ff31aa18c"
      },
      "outputs": [
        {
          "name": "stdout",
          "output_type": "stream",
          "text": [
            "Model: Mobile Assignment problem\n",
            " - number of variables: 40\n",
            "   - binary=40, integer=0, continuous=0\n",
            " - number of constraints: 14\n",
            "   - linear=14\n",
            " - parameters: defaults\n",
            " - objective: maximize\n",
            " - problem type is: MILP\n",
            "JobSolveStatus.OPTIMAL_SOLUTION\n",
            "objective: 74\n",
            "status: OPTIMAL_SOLUTION(2)\n",
            "  \"Phone Given to Ahmad_2\"=1\n",
            "  \"Phone Given to Ahmad_3\"=1\n",
            "  \"Phone Given to Ali_7\"=1\n",
            "  \"Phone Given to Ali_8\"=1\n",
            "  \"Phone Given to Zaid_4\"=1\n",
            "  \"Phone Given to Zaid_10\"=1\n",
            "  \"Phone Given to Noor_5\"=1\n",
            "  \"Phone Given to Noor_9\"=1\n"
          ]
        }
      ],
      "source": [
        "m.print_information()\n",
        "m.solve()\n",
        "print(m.solve_status)\n",
        "m.print_solution()"
      ]
    },
    {
      "cell_type": "code",
      "execution_count": null,
      "metadata": {
        "id": "Xrq7VrMVd7RL"
      },
      "outputs": [],
      "source": []
    }
  ],
  "metadata": {
    "colab": {
      "provenance": []
    },
    "kernelspec": {
      "display_name": "base",
      "language": "python",
      "name": "python3"
    },
    "language_info": {
      "codemirror_mode": {
        "name": "ipython",
        "version": 3
      },
      "file_extension": ".py",
      "mimetype": "text/x-python",
      "name": "python",
      "nbconvert_exporter": "python",
      "pygments_lexer": "ipython3",
      "version": "3.8.8"
    },
    "orig_nbformat": 4,
    "vscode": {
      "interpreter": {
        "hash": "88279d2366fe020547cde40dd65aa0e3aa662a6ec1f3ca12d88834876c85e1a6"
      }
    }
  },
  "nbformat": 4,
  "nbformat_minor": 0
}
