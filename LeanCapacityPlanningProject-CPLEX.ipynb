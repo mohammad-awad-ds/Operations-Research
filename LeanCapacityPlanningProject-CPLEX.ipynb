{
  "cells": [
    {
      "attachments": {},
      "cell_type": "markdown",
      "metadata": {},
      "source": [
        "## Implementation for Capacity Planning Base Model Project on Python CPLEX."
      ]
    },
    {
      "attachments": {},
      "cell_type": "markdown",
      "metadata": {},
      "source": [
        "### By Mohammad Awad on 02-May-2023"
      ]
    },
    {
      "cell_type": "code",
      "execution_count": 287,
      "metadata": {
        "id": "AethuMnffBnS"
      },
      "outputs": [],
      "source": [
        "#!pip install cplex\n",
        "#!pip install docplex"
      ]
    },
    {
      "cell_type": "code",
      "execution_count": 288,
      "metadata": {},
      "outputs": [],
      "source": [
        "from docplex.mp.model import Model\n",
        "import cplex\n",
        "import numpy as np"
      ]
    },
    {
      "cell_type": "code",
      "execution_count": 289,
      "metadata": {},
      "outputs": [],
      "source": [
        "m = Model(name='Lean_Scheduling')"
      ]
    },
    {
      "cell_type": "code",
      "execution_count": 290,
      "metadata": {},
      "outputs": [
        {
          "name": "stdout",
          "output_type": "stream",
          "text": [
            "total number of patients:  530\n"
          ]
        }
      ],
      "source": [
        "td= 20 #total n of doctors\n",
        "tds= 10 #number of sr doctors\n",
        "et= 5      #placeholder\n",
        "dt= 5      #placeholder\n",
        "\n",
        "#dpat=[36,36,36,36,36,36,36,36,36,36,18,18,18,18,18,18,18,18,18,18] #exp1\n",
        "#dpat=[36,18,36,18,36,18,36,18,36,18,18,18,18,18,18,18,18,18,18,18] #exp2\n",
        "#dpat=[36,30,36,28,36,26,36,24,36,22,18,18,18,18,18,18,18,18,18,18] #exp3\n",
        "#dpat=[36,30,36,28,36,26,36,24,36,22,18,24,18,24,18,24,18,24,18,24] #exp4\n",
        "#dpat=[36,36,36,36,36,36,36,36,36,36,18,24,18,24,18,24,18,24,18,24] #exp5\n",
        "dpat=[36,30,36,28,36,26,36,24,36,22,18,30,18,28,18,26,18,24,18,22] #exp6\n",
        "\n",
        "tp= sum(dpat) #total n of patients\n",
        "print(\"total number of patients: \",tp)\n",
        "work_time=[360, 360, 360, 360, 360, 360, 360, 360, 360, 360,\n",
        " 360, 360, 360, 360, 360, 360, 360, 360, 360, 360] #Dr maximum working time before scheduling"
      ]
    },
    {
      "cell_type": "code",
      "execution_count": null,
      "metadata": {},
      "outputs": [],
      "source": []
    },
    {
      "cell_type": "markdown",
      "metadata": {},
      "source": [
        "## The bellow cell contains code to transform dpat into a 2D binary array (commented out by turning the cell into markdown)\n",
        "### Edits to the code are necassary to use the binary variable. "
      ]
    },
    {
      "attachments": {},
      "cell_type": "markdown",
      "metadata": {},
      "source": [
        "Nhigh_doctor = tds\n",
        "Nlow_doctor = td-tds\n",
        "Ntotal_doctor = td\n",
        "Ntotal_patient = tp\n",
        "\n",
        "total_doctor = range(1, Ntotal_doctor + 1)\n",
        "high_doctor = range(1, Nhigh_doctor + 1)\n",
        "low_doctor = range(Nhigh_doctor + 1, Nhigh_doctor + Nlow_doctor + 1)\n",
        "total_patient = range(1, Ntotal_patient + 1)\n",
        "\n",
        "each_doctor_patient = dpat\n",
        "\n",
        "doctor_init = [[0] * Ntotal_patient for _ in range(Ntotal_doctor)]\n",
        "\n",
        "cnt = 0\n",
        "\n",
        "for i in total_doctor:\n",
        "    for j in total_patient:\n",
        "        if j > cnt and j <= cnt + each_doctor_patient[i-1]:\n",
        "            doctor_init[i-1][j-1] = 1\n",
        "        else:\n",
        "            doctor_init[i-1][j-1] = 0\n",
        "    cnt += each_doctor_patient[i-1]\n",
        "\n",
        "#Print the doctor_init array\n",
        "for row in doctor_init:\n",
        "    print(row)\n",
        "dpat=doctor_init"
      ]
    },
    {
      "cell_type": "code",
      "execution_count": 291,
      "metadata": {},
      "outputs": [
        {
          "data": {
            "text/plain": [
              "[docplex.mp.Var(type=I,name='number of patients transferred for doctor 0',lb=-530,ub=530),\n",
              " docplex.mp.Var(type=I,name='number of patients transferred for doctor 1',lb=-530,ub=530),\n",
              " docplex.mp.Var(type=I,name='number of patients transferred for doctor 2',lb=-530,ub=530),\n",
              " docplex.mp.Var(type=I,name='number of patients transferred for doctor 3',lb=-530,ub=530),\n",
              " docplex.mp.Var(type=I,name='number of patients transferred for doctor 4',lb=-530,ub=530),\n",
              " docplex.mp.Var(type=I,name='number of patients transferred for doctor 5',lb=-530,ub=530),\n",
              " docplex.mp.Var(type=I,name='number of patients transferred for doctor 6',lb=-530,ub=530),\n",
              " docplex.mp.Var(type=I,name='number of patients transferred for doctor 7',lb=-530,ub=530),\n",
              " docplex.mp.Var(type=I,name='number of patients transferred for doctor 8',lb=-530,ub=530),\n",
              " docplex.mp.Var(type=I,name='number of patients transferred for doctor 9',lb=-530,ub=530),\n",
              " docplex.mp.Var(type=I,name='number of patients transferred for doctor 10',lb=-530,ub=530),\n",
              " docplex.mp.Var(type=I,name='number of patients transferred for doctor 11',lb=-530,ub=530),\n",
              " docplex.mp.Var(type=I,name='number of patients transferred for doctor 12',lb=-530,ub=530),\n",
              " docplex.mp.Var(type=I,name='number of patients transferred for doctor 13',lb=-530,ub=530),\n",
              " docplex.mp.Var(type=I,name='number of patients transferred for doctor 14',lb=-530,ub=530),\n",
              " docplex.mp.Var(type=I,name='number of patients transferred for doctor 15',lb=-530,ub=530),\n",
              " docplex.mp.Var(type=I,name='number of patients transferred for doctor 16',lb=-530,ub=530),\n",
              " docplex.mp.Var(type=I,name='number of patients transferred for doctor 17',lb=-530,ub=530),\n",
              " docplex.mp.Var(type=I,name='number of patients transferred for doctor 18',lb=-530,ub=530),\n",
              " docplex.mp.Var(type=I,name='number of patients transferred for doctor 19',lb=-530,ub=530)]"
            ]
          },
          "execution_count": 291,
          "metadata": {},
          "output_type": "execute_result"
        }
      ],
      "source": [
        "npp=m.integer_var_list(td, -tp, tp, name='number of patients transferred for doctor %s')\n",
        "npp"
      ]
    },
    {
      "cell_type": "code",
      "execution_count": 292,
      "metadata": {},
      "outputs": [
        {
          "data": {
            "text/plain": [
              "docplex.mp.Var(type=I,name='max working time after scheduling')"
            ]
          },
          "execution_count": 292,
          "metadata": {},
          "output_type": "execute_result"
        }
      ],
      "source": [
        "LWT=m.integer_var(0, None, name='max working time after scheduling')\n",
        "LWT"
      ]
    },
    {
      "cell_type": "code",
      "execution_count": 293,
      "metadata": {},
      "outputs": [],
      "source": [
        "#First chunk of code\n",
        "for i in range(0, td):\n",
        "    if(i in range(0, tds) and dpat[i]>tp/td):\n",
        "        m.add_constraint(((et+dt) * dpat[i] +  et * (npp[i]))<= LWT)\n",
        "        m.add_constraint(((et+dt) * dpat[i] +  et * (npp[i]))<= work_time[i])"
      ]
    },
    {
      "cell_type": "code",
      "execution_count": 294,
      "metadata": {},
      "outputs": [],
      "source": [
        "#Second chunk of code\n",
        "for i in range(0, td):\n",
        "    if(i in range(tds, td) and dpat[i]<tp/td):\n",
        "        m.add_constraint(((et+dt) * dpat[i] +  et * (npp[i]))<= LWT)\n",
        "        m.add_constraint(((et+dt) * dpat[i] +  et * (npp[i]))<= work_time[i])"
      ]
    },
    {
      "cell_type": "code",
      "execution_count": 295,
      "metadata": {},
      "outputs": [],
      "source": [
        "#npp constraint for underbooked sr doctors \n",
        "for i in range(tds):\n",
        "    if dpat[i] < tp/td:\n",
        "        m.add_constraint(npp[i] == 0)\n",
        "    else:\n",
        "        m.add_constraint(npp[i] <= 0)\n",
        "        m.add_constraint(npp[i] >=-dpat[i])"
      ]
    },
    {
      "cell_type": "code",
      "execution_count": 296,
      "metadata": {},
      "outputs": [],
      "source": [
        "#**** In the paper, the formulation does not match the written text\n",
        "#npp constraint for overbooked associate sr doctors \n",
        "for i in range(tds, td):\n",
        "    if dpat[i] > tp/td:\n",
        "        m.add_constraint(npp[i] == 0)\n",
        "    else:\n",
        "        m.add_constraint(npp[i]>= 0)"
      ]
    },
    {
      "cell_type": "code",
      "execution_count": 297,
      "metadata": {},
      "outputs": [
        {
          "data": {
            "text/plain": [
              "docplex.mp.LinearConstraint[](number of patients transferred for doctor 0+number of patients transferred for doctor 1+number of patients transferred for doctor 2+number of patients transferred for doctor 3+number of patients transferred for doctor 4+number of patients transferred for doctor 5+number of patients transferred for doctor 6+number of patients transferred for doctor 7+number of patients transferred for doctor 8+number of patients transferred for doctor 9+number of patients transferred for doctor 10+number of patients transferred for doctor 11+number of patients transferred for doctor 12+number of patients transferred for doctor 13+number of patients transferred for doctor 14+number of patients transferred for doctor 15+number of patients transferred for doctor 16+number of patients transferred for doctor 17+number of patients transferred for doctor 18+number of patients transferred for doctor 19,EQ,0)"
            ]
          },
          "execution_count": 297,
          "metadata": {},
          "output_type": "execute_result"
        }
      ],
      "source": [
        "m.add_constraint(sum(npp[i] for i in range(0,td))==0)"
      ]
    },
    {
      "cell_type": "code",
      "execution_count": 298,
      "metadata": {},
      "outputs": [],
      "source": [
        "#objective is to minimize the Dr max working time\n",
        "m.minimize(LWT)\n"
      ]
    },
    {
      "cell_type": "code",
      "execution_count": 299,
      "metadata": {},
      "outputs": [
        {
          "data": {
            "text/plain": [
              "'Lean_Scheduling_alt.lp'"
            ]
          },
          "execution_count": 299,
          "metadata": {},
          "output_type": "execute_result"
        }
      ],
      "source": [
        "m.export_as_lp('Lean_Scheduling_alt.lp')"
      ]
    },
    {
      "cell_type": "code",
      "execution_count": 300,
      "metadata": {},
      "outputs": [
        {
          "name": "stdout",
          "output_type": "stream",
          "text": [
            "Model: Lean_Scheduling\n",
            " - number of variables: 21\n",
            "   - binary=0, integer=21, continuous=0\n",
            " - number of constraints: 58\n",
            "   - linear=58\n",
            " - parameters: defaults\n",
            " - objective: minimize\n",
            " - problem type is: MILP\n",
            "JobSolveStatus.OPTIMAL_SOLUTION\n",
            "objective: 270\n",
            "  \"number of patients transferred for doctor 0\"=-18\n",
            "  \"number of patients transferred for doctor 1\"=-16\n",
            "  \"number of patients transferred for doctor 2\"=-18\n",
            "  \"number of patients transferred for doctor 3\"=-2\n",
            "  \"number of patients transferred for doctor 4\"=-18\n",
            "  \"number of patients transferred for doctor 6\"=-18\n",
            "  \"number of patients transferred for doctor 8\"=-18\n",
            "  \"number of patients transferred for doctor 10\"=18\n",
            "  \"number of patients transferred for doctor 12\"=18\n",
            "  \"number of patients transferred for doctor 14\"=18\n",
            "  \"number of patients transferred for doctor 15\"=2\n",
            "  \"number of patients transferred for doctor 16\"=18\n",
            "  \"number of patients transferred for doctor 17\"=6\n",
            "  \"number of patients transferred for doctor 18\"=18\n",
            "  \"number of patients transferred for doctor 19\"=10\n",
            "  \"max working time after scheduling\"=270\n"
          ]
        }
      ],
      "source": [
        "m.print_information()\n",
        "m.solve()\n",
        "print(m.solve_status)\n",
        "m.print_solution()\n",
        "#Time is given in minutes"
      ]
    },
    {
      "cell_type": "code",
      "execution_count": 301,
      "metadata": {},
      "outputs": [
        {
          "data": {
            "text/plain": [
              "[-18.0,\n",
              " -16.0,\n",
              " -18.0,\n",
              " -2.0,\n",
              " -18.0,\n",
              " 0,\n",
              " -18.0,\n",
              " 0,\n",
              " -18.0,\n",
              " 0,\n",
              " 18.0,\n",
              " 0,\n",
              " 18.0,\n",
              " 0,\n",
              " 18.0,\n",
              " 2.0,\n",
              " 18.0,\n",
              " 6.0,\n",
              " 18.0,\n",
              " 10.0]"
            ]
          },
          "execution_count": 301,
          "metadata": {},
          "output_type": "execute_result"
        }
      ],
      "source": [
        "x2=[npp[i].solution_value for i in range(td)]\n",
        "x2"
      ]
    },
    {
      "cell_type": "code",
      "execution_count": 302,
      "metadata": {},
      "outputs": [
        {
          "name": "stdout",
          "output_type": "stream",
          "text": [
            "Before Scheduling:  360\n",
            "After Scheduling:  270\n"
          ]
        }
      ],
      "source": [
        "print(\"Before Scheduling: \", np.max(work_time))\n",
        "print(\"After Scheduling: \", int(round(LWT.solution_value, 0)))"
      ]
    },
    {
      "cell_type": "code",
      "execution_count": 303,
      "metadata": {},
      "outputs": [
        {
          "data": {
            "text/html": [
              "<div>\n",
              "<style scoped>\n",
              "    .dataframe tbody tr th:only-of-type {\n",
              "        vertical-align: middle;\n",
              "    }\n",
              "\n",
              "    .dataframe tbody tr th {\n",
              "        vertical-align: top;\n",
              "    }\n",
              "\n",
              "    .dataframe thead th {\n",
              "        text-align: right;\n",
              "    }\n",
              "</style>\n",
              "<table border=\"1\" class=\"dataframe\">\n",
              "  <thead>\n",
              "    <tr style=\"text-align: right;\">\n",
              "      <th></th>\n",
              "      <th>no. Patients Before Sched</th>\n",
              "      <th>no. Patients After Sched</th>\n",
              "      <th>Difference</th>\n",
              "    </tr>\n",
              "  </thead>\n",
              "  <tbody>\n",
              "    <tr>\n",
              "      <th>0</th>\n",
              "      <td>36</td>\n",
              "      <td>18.0</td>\n",
              "      <td>-18.0</td>\n",
              "    </tr>\n",
              "    <tr>\n",
              "      <th>1</th>\n",
              "      <td>30</td>\n",
              "      <td>14.0</td>\n",
              "      <td>-16.0</td>\n",
              "    </tr>\n",
              "    <tr>\n",
              "      <th>2</th>\n",
              "      <td>36</td>\n",
              "      <td>18.0</td>\n",
              "      <td>-18.0</td>\n",
              "    </tr>\n",
              "    <tr>\n",
              "      <th>3</th>\n",
              "      <td>28</td>\n",
              "      <td>26.0</td>\n",
              "      <td>-2.0</td>\n",
              "    </tr>\n",
              "    <tr>\n",
              "      <th>4</th>\n",
              "      <td>36</td>\n",
              "      <td>18.0</td>\n",
              "      <td>-18.0</td>\n",
              "    </tr>\n",
              "    <tr>\n",
              "      <th>5</th>\n",
              "      <td>26</td>\n",
              "      <td>26.0</td>\n",
              "      <td>0.0</td>\n",
              "    </tr>\n",
              "    <tr>\n",
              "      <th>6</th>\n",
              "      <td>36</td>\n",
              "      <td>18.0</td>\n",
              "      <td>-18.0</td>\n",
              "    </tr>\n",
              "    <tr>\n",
              "      <th>7</th>\n",
              "      <td>24</td>\n",
              "      <td>24.0</td>\n",
              "      <td>0.0</td>\n",
              "    </tr>\n",
              "    <tr>\n",
              "      <th>8</th>\n",
              "      <td>36</td>\n",
              "      <td>18.0</td>\n",
              "      <td>-18.0</td>\n",
              "    </tr>\n",
              "    <tr>\n",
              "      <th>9</th>\n",
              "      <td>22</td>\n",
              "      <td>22.0</td>\n",
              "      <td>0.0</td>\n",
              "    </tr>\n",
              "    <tr>\n",
              "      <th>10</th>\n",
              "      <td>18</td>\n",
              "      <td>36.0</td>\n",
              "      <td>18.0</td>\n",
              "    </tr>\n",
              "    <tr>\n",
              "      <th>11</th>\n",
              "      <td>30</td>\n",
              "      <td>30.0</td>\n",
              "      <td>0.0</td>\n",
              "    </tr>\n",
              "    <tr>\n",
              "      <th>12</th>\n",
              "      <td>18</td>\n",
              "      <td>36.0</td>\n",
              "      <td>18.0</td>\n",
              "    </tr>\n",
              "    <tr>\n",
              "      <th>13</th>\n",
              "      <td>28</td>\n",
              "      <td>28.0</td>\n",
              "      <td>0.0</td>\n",
              "    </tr>\n",
              "    <tr>\n",
              "      <th>14</th>\n",
              "      <td>18</td>\n",
              "      <td>36.0</td>\n",
              "      <td>18.0</td>\n",
              "    </tr>\n",
              "    <tr>\n",
              "      <th>15</th>\n",
              "      <td>26</td>\n",
              "      <td>28.0</td>\n",
              "      <td>2.0</td>\n",
              "    </tr>\n",
              "    <tr>\n",
              "      <th>16</th>\n",
              "      <td>18</td>\n",
              "      <td>36.0</td>\n",
              "      <td>18.0</td>\n",
              "    </tr>\n",
              "    <tr>\n",
              "      <th>17</th>\n",
              "      <td>24</td>\n",
              "      <td>30.0</td>\n",
              "      <td>6.0</td>\n",
              "    </tr>\n",
              "    <tr>\n",
              "      <th>18</th>\n",
              "      <td>18</td>\n",
              "      <td>36.0</td>\n",
              "      <td>18.0</td>\n",
              "    </tr>\n",
              "    <tr>\n",
              "      <th>19</th>\n",
              "      <td>22</td>\n",
              "      <td>32.0</td>\n",
              "      <td>10.0</td>\n",
              "    </tr>\n",
              "  </tbody>\n",
              "</table>\n",
              "</div>"
            ],
            "text/plain": [
              "    no. Patients Before Sched  no. Patients After Sched  Difference\n",
              "0                          36                      18.0       -18.0\n",
              "1                          30                      14.0       -16.0\n",
              "2                          36                      18.0       -18.0\n",
              "3                          28                      26.0        -2.0\n",
              "4                          36                      18.0       -18.0\n",
              "5                          26                      26.0         0.0\n",
              "6                          36                      18.0       -18.0\n",
              "7                          24                      24.0         0.0\n",
              "8                          36                      18.0       -18.0\n",
              "9                          22                      22.0         0.0\n",
              "10                         18                      36.0        18.0\n",
              "11                         30                      30.0         0.0\n",
              "12                         18                      36.0        18.0\n",
              "13                         28                      28.0         0.0\n",
              "14                         18                      36.0        18.0\n",
              "15                         26                      28.0         2.0\n",
              "16                         18                      36.0        18.0\n",
              "17                         24                      30.0         6.0\n",
              "18                         18                      36.0        18.0\n",
              "19                         22                      32.0        10.0"
            ]
          },
          "execution_count": 303,
          "metadata": {},
          "output_type": "execute_result"
        }
      ],
      "source": [
        "import pandas as pd\n",
        "import numpy as np\n",
        "x=[npp[i].solution_value for i in range(td)]\n",
        "dpat_sched=np.array(dpat)+np.array(x)\n",
        "[npp[i].solution_value for i in range(td)]\n",
        "df=pd.DataFrame({\"no. Patients Before Sched\": dpat, \"no. Patients After Sched\": dpat_sched, \"Difference\": x})\n",
        "df"
      ]
    },
    {
      "cell_type": "code",
      "execution_count": 304,
      "metadata": {},
      "outputs": [
        {
          "data": {
            "image/png": "[encoded data removed]",
            "text/plain": [
              "<Figure size 1008x504 with 1 Axes>"
            ]
          },
          "metadata": {
            "needs_background": "light"
          },
          "output_type": "display_data"
        }
      ],
      "source": [
        "import matplotlib.pyplot as plt\n",
        "\n",
        "bar_width = 0.42\n",
        "\n",
        "# Define the colors of the bars\n",
        "dpat_before_color = '#0072B2'\n",
        "dpat_after_color = '#E69F00'\n",
        "\n",
        "# Create the figure and plot the data\n",
        "fig = plt.figure(figsize=(14, 7))\n",
        "plt.bar(np.arange(td), df['no. Patients Before Sched'], width=bar_width, color=dpat_before_color)\n",
        "plt.bar(np.arange(td) + bar_width, df['no. Patients After Sched'], width=bar_width, color=dpat_after_color)\n",
        "\n",
        "# Set the x-ticks\n",
        "plt.xticks(np.arange(td) + bar_width/2, np.arange(td), fontsize=12)\n",
        "\n",
        "# Add labels and a legend\n",
        "plt.xlabel('Doctor no.', fontsize=12)\n",
        "plt.ylabel('Number of Patients', fontsize=12)\n",
        "plt.title('Number of Patients for each Doctor Before and After Scheduling', fontsize=16)\n",
        "\n",
        "# Move the legend closer to the frame\n",
        "plt.legend(['Before', 'After'], bbox_to_anchor=(1.02, 1), loc='upper left')\n",
        "\n",
        "# Adjust the plot's tight layout\n",
        "plt.tight_layout()\n",
        "\n",
        "# Show the plot\n",
        "plt.show()"
      ]
    },
    {
      "cell_type": "code",
      "execution_count": null,
      "metadata": {},
      "outputs": [],
      "source": []
    },
    {
      "cell_type": "code",
      "execution_count": null,
      "metadata": {},
      "outputs": [],
      "source": []
    },
    {
      "cell_type": "markdown",
      "metadata": {},
      "source": [
        "# Second Formulation alternative."
      ]
    },
    {
      "cell_type": "code",
      "execution_count": 305,
      "metadata": {},
      "outputs": [],
      "source": [
        "m = Model(name='Lean_Scheduling')"
      ]
    },
    {
      "cell_type": "code",
      "execution_count": 306,
      "metadata": {},
      "outputs": [
        {
          "data": {
            "text/plain": [
              "[docplex.mp.Var(type=I,name='number of patients transferred for doctor 0',lb=-530,ub=530),\n",
              " docplex.mp.Var(type=I,name='number of patients transferred for doctor 1',lb=-530,ub=530),\n",
              " docplex.mp.Var(type=I,name='number of patients transferred for doctor 2',lb=-530,ub=530),\n",
              " docplex.mp.Var(type=I,name='number of patients transferred for doctor 3',lb=-530,ub=530),\n",
              " docplex.mp.Var(type=I,name='number of patients transferred for doctor 4',lb=-530,ub=530),\n",
              " docplex.mp.Var(type=I,name='number of patients transferred for doctor 5',lb=-530,ub=530),\n",
              " docplex.mp.Var(type=I,name='number of patients transferred for doctor 6',lb=-530,ub=530),\n",
              " docplex.mp.Var(type=I,name='number of patients transferred for doctor 7',lb=-530,ub=530),\n",
              " docplex.mp.Var(type=I,name='number of patients transferred for doctor 8',lb=-530,ub=530),\n",
              " docplex.mp.Var(type=I,name='number of patients transferred for doctor 9',lb=-530,ub=530),\n",
              " docplex.mp.Var(type=I,name='number of patients transferred for doctor 10',lb=-530,ub=530),\n",
              " docplex.mp.Var(type=I,name='number of patients transferred for doctor 11',lb=-530,ub=530),\n",
              " docplex.mp.Var(type=I,name='number of patients transferred for doctor 12',lb=-530,ub=530),\n",
              " docplex.mp.Var(type=I,name='number of patients transferred for doctor 13',lb=-530,ub=530),\n",
              " docplex.mp.Var(type=I,name='number of patients transferred for doctor 14',lb=-530,ub=530),\n",
              " docplex.mp.Var(type=I,name='number of patients transferred for doctor 15',lb=-530,ub=530),\n",
              " docplex.mp.Var(type=I,name='number of patients transferred for doctor 16',lb=-530,ub=530),\n",
              " docplex.mp.Var(type=I,name='number of patients transferred for doctor 17',lb=-530,ub=530),\n",
              " docplex.mp.Var(type=I,name='number of patients transferred for doctor 18',lb=-530,ub=530),\n",
              " docplex.mp.Var(type=I,name='number of patients transferred for doctor 19',lb=-530,ub=530)]"
            ]
          },
          "execution_count": 306,
          "metadata": {},
          "output_type": "execute_result"
        }
      ],
      "source": [
        "npp=m.integer_var_list(td, -tp, tp, name='number of patients transferred for doctor %s')\n",
        "npp"
      ]
    },
    {
      "cell_type": "code",
      "execution_count": 307,
      "metadata": {},
      "outputs": [
        {
          "data": {
            "text/plain": [
              "docplex.mp.Var(type=I,name='max working time after scheduling')"
            ]
          },
          "execution_count": 307,
          "metadata": {},
          "output_type": "execute_result"
        }
      ],
      "source": [
        "LWT=m.integer_var(0, None, name='max working time after scheduling')\n",
        "LWT"
      ]
    },
    {
      "cell_type": "code",
      "execution_count": 308,
      "metadata": {},
      "outputs": [
        {
          "data": {
            "text/plain": [
              "[docplex.mp.LinearConstraint[](5number of patients transferred for doctor 0+360,LE,360),\n",
              " docplex.mp.LinearConstraint[](5number of patients transferred for doctor 1+300,LE,360),\n",
              " docplex.mp.LinearConstraint[](5number of patients transferred for doctor 2+360,LE,360),\n",
              " docplex.mp.LinearConstraint[](5number of patients transferred for doctor 3+280,LE,360),\n",
              " docplex.mp.LinearConstraint[](5number of patients transferred for doctor 4+360,LE,360),\n",
              " docplex.mp.LinearConstraint[](5number of patients transferred for doctor 5+260,LE,360),\n",
              " docplex.mp.LinearConstraint[](5number of patients transferred for doctor 6+360,LE,360),\n",
              " docplex.mp.LinearConstraint[](5number of patients transferred for doctor 7+240,LE,360),\n",
              " docplex.mp.LinearConstraint[](5number of patients transferred for doctor 8+360,LE,360),\n",
              " docplex.mp.LinearConstraint[](5number of patients transferred for doctor 9+220,LE,360),\n",
              " docplex.mp.LinearConstraint[](5number of patients transferred for doctor 10+180,LE,360),\n",
              " docplex.mp.LinearConstraint[](5number of patients transferred for doctor 11+300,LE,360),\n",
              " docplex.mp.LinearConstraint[](5number of patients transferred for doctor 12+180,LE,360),\n",
              " docplex.mp.LinearConstraint[](5number of patients transferred for doctor 13+280,LE,360),\n",
              " docplex.mp.LinearConstraint[](5number of patients transferred for doctor 14+180,LE,360),\n",
              " docplex.mp.LinearConstraint[](5number of patients transferred for doctor 15+260,LE,360),\n",
              " docplex.mp.LinearConstraint[](5number of patients transferred for doctor 16+180,LE,360),\n",
              " docplex.mp.LinearConstraint[](5number of patients transferred for doctor 17+240,LE,360),\n",
              " docplex.mp.LinearConstraint[](5number of patients transferred for doctor 18+180,LE,360),\n",
              " docplex.mp.LinearConstraint[](5number of patients transferred for doctor 19+220,LE,360)]"
            ]
          },
          "execution_count": 308,
          "metadata": {},
          "output_type": "execute_result"
        }
      ],
      "source": [
        "#Constraint 1\n",
        "m.add_constraints([(et+dt)*dpat[i] + et*npp[i] <= work_time[i] for i in range(0,td)])"
      ]
    },
    {
      "cell_type": "code",
      "execution_count": 309,
      "metadata": {},
      "outputs": [
        {
          "data": {
            "text/plain": [
              "[docplex.mp.LinearConstraint[](5number of patients transferred for doctor 0+360,LE,max working time after scheduling),\n",
              " docplex.mp.LinearConstraint[](5number of patients transferred for doctor 1+300,LE,max working time after scheduling),\n",
              " docplex.mp.LinearConstraint[](5number of patients transferred for doctor 2+360,LE,max working time after scheduling),\n",
              " docplex.mp.LinearConstraint[](5number of patients transferred for doctor 3+280,LE,max working time after scheduling),\n",
              " docplex.mp.LinearConstraint[](5number of patients transferred for doctor 4+360,LE,max working time after scheduling),\n",
              " docplex.mp.LinearConstraint[](5number of patients transferred for doctor 5+260,LE,max working time after scheduling),\n",
              " docplex.mp.LinearConstraint[](5number of patients transferred for doctor 6+360,LE,max working time after scheduling),\n",
              " docplex.mp.LinearConstraint[](5number of patients transferred for doctor 7+240,LE,max working time after scheduling),\n",
              " docplex.mp.LinearConstraint[](5number of patients transferred for doctor 8+360,LE,max working time after scheduling),\n",
              " docplex.mp.LinearConstraint[](5number of patients transferred for doctor 9+220,LE,max working time after scheduling),\n",
              " docplex.mp.LinearConstraint[](5number of patients transferred for doctor 10+180,LE,max working time after scheduling),\n",
              " docplex.mp.LinearConstraint[](5number of patients transferred for doctor 11+300,LE,max working time after scheduling),\n",
              " docplex.mp.LinearConstraint[](5number of patients transferred for doctor 12+180,LE,max working time after scheduling),\n",
              " docplex.mp.LinearConstraint[](5number of patients transferred for doctor 13+280,LE,max working time after scheduling),\n",
              " docplex.mp.LinearConstraint[](5number of patients transferred for doctor 14+180,LE,max working time after scheduling),\n",
              " docplex.mp.LinearConstraint[](5number of patients transferred for doctor 15+260,LE,max working time after scheduling),\n",
              " docplex.mp.LinearConstraint[](5number of patients transferred for doctor 16+180,LE,max working time after scheduling),\n",
              " docplex.mp.LinearConstraint[](5number of patients transferred for doctor 17+240,LE,max working time after scheduling),\n",
              " docplex.mp.LinearConstraint[](5number of patients transferred for doctor 18+180,LE,max working time after scheduling),\n",
              " docplex.mp.LinearConstraint[](5number of patients transferred for doctor 19+220,LE,max working time after scheduling)]"
            ]
          },
          "execution_count": 309,
          "metadata": {},
          "output_type": "execute_result"
        }
      ],
      "source": [
        "#Constraints 2 & 3 merged\n",
        "m.add_constraints([(et+dt)*dpat[i] + et*npp[i] <= LWT for i in range(0,td)])"
      ]
    },
    {
      "cell_type": "code",
      "execution_count": 310,
      "metadata": {},
      "outputs": [],
      "source": [
        "#npp constraint for overbooked sr doctors \n",
        "for i in range(tds):\n",
        "    if dpat[i] > tp/td:\n",
        "        m.add_constraint(npp[i] <= 0)"
      ]
    },
    {
      "cell_type": "code",
      "execution_count": 311,
      "metadata": {},
      "outputs": [],
      "source": [
        "#npp constraint for underbooked sr doctors \n",
        "for i in range(tds):\n",
        "    if dpat[i] <= tp/td:\n",
        "        m.add_constraint(npp[i] >= 0)"
      ]
    },
    {
      "cell_type": "code",
      "execution_count": 312,
      "metadata": {},
      "outputs": [],
      "source": [
        "#**** In the paper, the formulation does not match the written text\n",
        "#npp constraint for overbooked associate sr doctors \n",
        "for i in range(tds, td):\n",
        "    if dpat[i] > tp/td:\n",
        "        m.add_constraint(npp[i] <= 0)"
      ]
    },
    {
      "cell_type": "code",
      "execution_count": 313,
      "metadata": {},
      "outputs": [],
      "source": [
        "#npp constraint for underbooked associate sr doctors \n",
        "for i in range(tds, td):\n",
        "    if dpat[i] <= tp/td:\n",
        "        m.add_constraint(npp[i] >= 0)"
      ]
    },
    {
      "cell_type": "code",
      "execution_count": 314,
      "metadata": {},
      "outputs": [
        {
          "data": {
            "text/plain": [
              "docplex.mp.LinearConstraint[](number of patients transferred for doctor 0+number of patients transferred for doctor 1+number of patients transferred for doctor 2+number of patients transferred for doctor 3+number of patients transferred for doctor 4+number of patients transferred for doctor 5+number of patients transferred for doctor 6+number of patients transferred for doctor 7+number of patients transferred for doctor 8+number of patients transferred for doctor 9+number of patients transferred for doctor 10+number of patients transferred for doctor 11+number of patients transferred for doctor 12+number of patients transferred for doctor 13+number of patients transferred for doctor 14+number of patients transferred for doctor 15+number of patients transferred for doctor 16+number of patients transferred for doctor 17+number of patients transferred for doctor 18+number of patients transferred for doctor 19,EQ,0)"
            ]
          },
          "execution_count": 314,
          "metadata": {},
          "output_type": "execute_result"
        }
      ],
      "source": [
        "m.add_constraint(sum(npp[i] for i in range(0,td))==0)"
      ]
    },
    {
      "cell_type": "code",
      "execution_count": 315,
      "metadata": {},
      "outputs": [],
      "source": [
        "#objective is to minimize the Dr max working time\n",
        "m.minimize(LWT)\n"
      ]
    },
    {
      "cell_type": "code",
      "execution_count": 316,
      "metadata": {},
      "outputs": [
        {
          "data": {
            "text/plain": [
              "'Lean_Scheduling.lp'"
            ]
          },
          "execution_count": 316,
          "metadata": {},
          "output_type": "execute_result"
        }
      ],
      "source": [
        "m.export_as_lp('Lean_Scheduling.lp')"
      ]
    },
    {
      "cell_type": "code",
      "execution_count": 317,
      "metadata": {},
      "outputs": [
        {
          "name": "stdout",
          "output_type": "stream",
          "text": [
            "Model: Lean_Scheduling\n",
            " - number of variables: 21\n",
            "   - binary=0, integer=21, continuous=0\n",
            " - number of constraints: 61\n",
            "   - linear=61\n",
            " - parameters: defaults\n",
            " - objective: minimize\n",
            " - problem type is: MILP\n",
            "JobSolveStatus.OPTIMAL_SOLUTION\n",
            "objective: 265\n",
            "  \"number of patients transferred for doctor 0\"=-19\n",
            "  \"number of patients transferred for doctor 1\"=-7\n",
            "  \"number of patients transferred for doctor 2\"=-19\n",
            "  \"number of patients transferred for doctor 3\"=-3\n",
            "  \"number of patients transferred for doctor 4\"=-19\n",
            "  \"number of patients transferred for doctor 5\"=1\n",
            "  \"number of patients transferred for doctor 6\"=-19\n",
            "  \"number of patients transferred for doctor 7\"=5\n",
            "  \"number of patients transferred for doctor 8\"=-19\n",
            "  \"number of patients transferred for doctor 9\"=9\n",
            "  \"number of patients transferred for doctor 10\"=17\n",
            "  \"number of patients transferred for doctor 11\"=-7\n",
            "  \"number of patients transferred for doctor 12\"=17\n",
            "  \"number of patients transferred for doctor 13\"=-3\n",
            "  \"number of patients transferred for doctor 14\"=17\n",
            "  \"number of patients transferred for doctor 15\"=1\n",
            "  \"number of patients transferred for doctor 16\"=17\n",
            "  \"number of patients transferred for doctor 17\"=5\n",
            "  \"number of patients transferred for doctor 18\"=17\n",
            "  \"number of patients transferred for doctor 19\"=9\n",
            "  \"max working time after scheduling\"=265\n"
          ]
        }
      ],
      "source": [
        "m.print_information()\n",
        "m.solve()\n",
        "print(m.solve_status)\n",
        "m.print_solution()\n",
        "#Time is given in minutes"
      ]
    },
    {
      "cell_type": "code",
      "execution_count": 318,
      "metadata": {},
      "outputs": [
        {
          "name": "stdout",
          "output_type": "stream",
          "text": [
            "Before Scheduling:  360\n",
            "After Scheduling:  265\n"
          ]
        }
      ],
      "source": [
        "print(\"Before Scheduling: \", np.max(work_time))\n",
        "print(\"After Scheduling: \", int(round(LWT.solution_value, 0)))"
      ]
    },
    {
      "cell_type": "code",
      "execution_count": 319,
      "metadata": {},
      "outputs": [
        {
          "data": {
            "text/html": [
              "<div>\n",
              "<style scoped>\n",
              "    .dataframe tbody tr th:only-of-type {\n",
              "        vertical-align: middle;\n",
              "    }\n",
              "\n",
              "    .dataframe tbody tr th {\n",
              "        vertical-align: top;\n",
              "    }\n",
              "\n",
              "    .dataframe thead th {\n",
              "        text-align: right;\n",
              "    }\n",
              "</style>\n",
              "<table border=\"1\" class=\"dataframe\">\n",
              "  <thead>\n",
              "    <tr style=\"text-align: right;\">\n",
              "      <th></th>\n",
              "      <th>no. Patients Before Sched</th>\n",
              "      <th>no. Patients After Sched</th>\n",
              "      <th>Difference</th>\n",
              "    </tr>\n",
              "  </thead>\n",
              "  <tbody>\n",
              "    <tr>\n",
              "      <th>0</th>\n",
              "      <td>36</td>\n",
              "      <td>17.0</td>\n",
              "      <td>-19.0</td>\n",
              "    </tr>\n",
              "    <tr>\n",
              "      <th>1</th>\n",
              "      <td>30</td>\n",
              "      <td>23.0</td>\n",
              "      <td>-7.0</td>\n",
              "    </tr>\n",
              "    <tr>\n",
              "      <th>2</th>\n",
              "      <td>36</td>\n",
              "      <td>17.0</td>\n",
              "      <td>-19.0</td>\n",
              "    </tr>\n",
              "    <tr>\n",
              "      <th>3</th>\n",
              "      <td>28</td>\n",
              "      <td>25.0</td>\n",
              "      <td>-3.0</td>\n",
              "    </tr>\n",
              "    <tr>\n",
              "      <th>4</th>\n",
              "      <td>36</td>\n",
              "      <td>17.0</td>\n",
              "      <td>-19.0</td>\n",
              "    </tr>\n",
              "    <tr>\n",
              "      <th>5</th>\n",
              "      <td>26</td>\n",
              "      <td>27.0</td>\n",
              "      <td>1.0</td>\n",
              "    </tr>\n",
              "    <tr>\n",
              "      <th>6</th>\n",
              "      <td>36</td>\n",
              "      <td>17.0</td>\n",
              "      <td>-19.0</td>\n",
              "    </tr>\n",
              "    <tr>\n",
              "      <th>7</th>\n",
              "      <td>24</td>\n",
              "      <td>29.0</td>\n",
              "      <td>5.0</td>\n",
              "    </tr>\n",
              "    <tr>\n",
              "      <th>8</th>\n",
              "      <td>36</td>\n",
              "      <td>17.0</td>\n",
              "      <td>-19.0</td>\n",
              "    </tr>\n",
              "    <tr>\n",
              "      <th>9</th>\n",
              "      <td>22</td>\n",
              "      <td>31.0</td>\n",
              "      <td>9.0</td>\n",
              "    </tr>\n",
              "    <tr>\n",
              "      <th>10</th>\n",
              "      <td>18</td>\n",
              "      <td>35.0</td>\n",
              "      <td>17.0</td>\n",
              "    </tr>\n",
              "    <tr>\n",
              "      <th>11</th>\n",
              "      <td>30</td>\n",
              "      <td>23.0</td>\n",
              "      <td>-7.0</td>\n",
              "    </tr>\n",
              "    <tr>\n",
              "      <th>12</th>\n",
              "      <td>18</td>\n",
              "      <td>35.0</td>\n",
              "      <td>17.0</td>\n",
              "    </tr>\n",
              "    <tr>\n",
              "      <th>13</th>\n",
              "      <td>28</td>\n",
              "      <td>25.0</td>\n",
              "      <td>-3.0</td>\n",
              "    </tr>\n",
              "    <tr>\n",
              "      <th>14</th>\n",
              "      <td>18</td>\n",
              "      <td>35.0</td>\n",
              "      <td>17.0</td>\n",
              "    </tr>\n",
              "    <tr>\n",
              "      <th>15</th>\n",
              "      <td>26</td>\n",
              "      <td>27.0</td>\n",
              "      <td>1.0</td>\n",
              "    </tr>\n",
              "    <tr>\n",
              "      <th>16</th>\n",
              "      <td>18</td>\n",
              "      <td>35.0</td>\n",
              "      <td>17.0</td>\n",
              "    </tr>\n",
              "    <tr>\n",
              "      <th>17</th>\n",
              "      <td>24</td>\n",
              "      <td>29.0</td>\n",
              "      <td>5.0</td>\n",
              "    </tr>\n",
              "    <tr>\n",
              "      <th>18</th>\n",
              "      <td>18</td>\n",
              "      <td>35.0</td>\n",
              "      <td>17.0</td>\n",
              "    </tr>\n",
              "    <tr>\n",
              "      <th>19</th>\n",
              "      <td>22</td>\n",
              "      <td>31.0</td>\n",
              "      <td>9.0</td>\n",
              "    </tr>\n",
              "  </tbody>\n",
              "</table>\n",
              "</div>"
            ],
            "text/plain": [
              "    no. Patients Before Sched  no. Patients After Sched  Difference\n",
              "0                          36                      17.0       -19.0\n",
              "1                          30                      23.0        -7.0\n",
              "2                          36                      17.0       -19.0\n",
              "3                          28                      25.0        -3.0\n",
              "4                          36                      17.0       -19.0\n",
              "5                          26                      27.0         1.0\n",
              "6                          36                      17.0       -19.0\n",
              "7                          24                      29.0         5.0\n",
              "8                          36                      17.0       -19.0\n",
              "9                          22                      31.0         9.0\n",
              "10                         18                      35.0        17.0\n",
              "11                         30                      23.0        -7.0\n",
              "12                         18                      35.0        17.0\n",
              "13                         28                      25.0        -3.0\n",
              "14                         18                      35.0        17.0\n",
              "15                         26                      27.0         1.0\n",
              "16                         18                      35.0        17.0\n",
              "17                         24                      29.0         5.0\n",
              "18                         18                      35.0        17.0\n",
              "19                         22                      31.0         9.0"
            ]
          },
          "execution_count": 319,
          "metadata": {},
          "output_type": "execute_result"
        }
      ],
      "source": [
        "import pandas as pd\n",
        "import numpy as np\n",
        "x=[npp[i].solution_value for i in range(td)]\n",
        "dpat_sched=np.array(dpat)+np.array(x)\n",
        "[npp[i].solution_value for i in range(td)]\n",
        "df1=pd.DataFrame({\"no. Patients Before Sched\": dpat, \"no. Patients After Sched\": dpat_sched, \"Difference\": x})\n",
        "df1"
      ]
    },
    {
      "cell_type": "code",
      "execution_count": 320,
      "metadata": {},
      "outputs": [
        {
          "data": {
            "image/png": "[encoded data removed]",
            "text/plain": [
              "<Figure size 1008x504 with 1 Axes>"
            ]
          },
          "metadata": {
            "needs_background": "light"
          },
          "output_type": "display_data"
        }
      ],
      "source": [
        "import matplotlib.pyplot as plt\n",
        "\n",
        "bar_width = 0.42\n",
        "\n",
        "# Define the colors of the bars\n",
        "dpat_before_color = '#0072B2'\n",
        "dpat_after_color = '#E69F00'\n",
        "\n",
        "# Create the figure and plot the data\n",
        "fig = plt.figure(figsize=(14, 7))\n",
        "plt.bar(np.arange(td), df1['no. Patients Before Sched'], width=bar_width, color=dpat_before_color)\n",
        "plt.bar(np.arange(td) + bar_width, df1['no. Patients After Sched'], width=bar_width, color=dpat_after_color)\n",
        "\n",
        "# Set the x-ticks\n",
        "plt.xticks(np.arange(td) + bar_width/2, np.arange(td), fontsize=12)\n",
        "\n",
        "# Add labels and a legend\n",
        "plt.xlabel('Doctor no.', fontsize=12)\n",
        "plt.ylabel('Number of Patients', fontsize=12)\n",
        "plt.title('Number of Patients for each Doctor Before and After Scheduling', fontsize=16)\n",
        "\n",
        "# Move the legend closer to the frame\n",
        "plt.legend(['Before', 'After'], bbox_to_anchor=(1.02, 1), loc='upper left')\n",
        "\n",
        "# Adjust the plot's tight layout\n",
        "plt.tight_layout()\n",
        "\n",
        "# Show the plot\n",
        "plt.show()"
      ]
    },
    {
      "cell_type": "code",
      "execution_count": 321,
      "metadata": {},
      "outputs": [
        {
          "data": {
            "image/png": "[encoded data removed]",
            "text/plain": [
              "<Figure size 1008x504 with 1 Axes>"
            ]
          },
          "metadata": {
            "needs_background": "light"
          },
          "output_type": "display_data"
        }
      ],
      "source": [
        "import matplotlib.pyplot as plt\n",
        "\n",
        "bar_width = 0.42\n",
        "\n",
        "# Define the colors of the bars\n",
        "dpat_before_color = '#0072B2'\n",
        "dpat_after_color = '#E69F00'\n",
        "\n",
        "# Create the figure and plot the data\n",
        "fig = plt.figure(figsize=(14, 7))\n",
        "plt.bar(np.arange(td), df['no. Patients After Sched'], width=bar_width, color=dpat_before_color)\n",
        "plt.bar(np.arange(td) + bar_width, df1['no. Patients After Sched'], width=bar_width, color=dpat_after_color)\n",
        "\n",
        "# Set the x-ticks\n",
        "plt.xticks(np.arange(td) + bar_width/2, np.arange(td), fontsize=12)\n",
        "\n",
        "# Add labels and a legend\n",
        "plt.xlabel('Doctor no.', fontsize=12)\n",
        "plt.ylabel('Number of Patients', fontsize=12)\n",
        "plt.title('Number of Patients for each Doctor for new and old models', fontsize=16)\n",
        "\n",
        "# Move the legend closer to the frame\n",
        "plt.legend(['Old Model', 'New Model'], bbox_to_anchor=(1.02, 1), loc='upper left')\n",
        "\n",
        "# Adjust the plot's tight layout\n",
        "plt.tight_layout()\n",
        "\n",
        "# Show the plot\n",
        "plt.show()"
      ]
    },
    {
      "cell_type": "code",
      "execution_count": null,
      "metadata": {},
      "outputs": [],
      "source": []
    }
  ],
  "metadata": {
    "colab": {
      "provenance": []
    },
    "kernelspec": {
      "display_name": "base",
      "language": "python",
      "name": "python3"
    },
    "language_info": {
      "codemirror_mode": {
        "name": "ipython",
        "version": 3
      },
      "file_extension": ".py",
      "mimetype": "text/x-python",
      "name": "python",
      "nbconvert_exporter": "python",
      "pygments_lexer": "ipython3",
      "version": "3.8.8"
    },
    "orig_nbformat": 4,
    "vscode": {
      "interpreter": {
        "hash": "88279d2366fe020547cde40dd65aa0e3aa662a6ec1f3ca12d88834876c85e1a6"
      }
    }
  },
  "nbformat": 4,
  "nbformat_minor": 0
}
