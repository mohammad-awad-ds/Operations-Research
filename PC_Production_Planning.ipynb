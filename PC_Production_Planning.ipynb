{
 "cells": [
  {
   "attachments": {},
   "cell_type": "markdown",
   "metadata": {},
   "source": [
    "### Implemented by Mohammad Awad on 11-Mar-2023"
   ]
  },
  {
   "attachments": {},
   "cell_type": "markdown",
   "metadata": {},
   "source": [
    "#### Implementation for the PC production planning problem faced in operational research on python CPLEX."
   ]
  },
  {
   "cell_type": "code",
   "execution_count": 338,
   "metadata": {},
   "outputs": [],
   "source": [
    "import cplex\n",
    "import docplex"
   ]
  },
  {
   "cell_type": "code",
   "execution_count": 339,
   "metadata": {},
   "outputs": [],
   "source": [
    "from docplex.mp.model import Model\n",
    "m = Model(name = 'PC_Production_Planning')"
   ]
  },
  {
   "cell_type": "code",
   "execution_count": 340,
   "metadata": {},
   "outputs": [],
   "source": [
    "#sets\n",
    "T=[\"R\", \"OT\"] #coressponding to regular and overtime PC production types\n",
    "W=[1, 2, 3, 4, 5, 6] #coressponding to production weeks"
   ]
  },
  {
   "cell_type": "code",
   "execution_count": 341,
   "metadata": {},
   "outputs": [],
   "source": [
    "#data\n",
    "#{\"Regular conditions\":[capacity, cost], \"Overtime conditions\":[capacity, cost]}\n",
    "Cap_Cost_t={\"R\": [160, 190] , \"OT\": [50, 260]}\n",
    "Ow={1:105, 2:170, 3:230, 4:180, 5:150, 6:250} #order demand per week {week:demand}\n",
    "I=10 #inventory cost per PC held per week"
   ]
  },
  {
   "cell_type": "code",
   "execution_count": 342,
   "metadata": {},
   "outputs": [
    {
     "data": {
      "text/plain": [
       "{(1, 'R'): docplex.mp.Var(type=I,name='Number of PCs for week 1_R to produce'),\n",
       " (1,\n",
       "  'OT'): docplex.mp.Var(type=I,name='Number of PCs for week 1_OT to produce'),\n",
       " (2, 'R'): docplex.mp.Var(type=I,name='Number of PCs for week 2_R to produce'),\n",
       " (2,\n",
       "  'OT'): docplex.mp.Var(type=I,name='Number of PCs for week 2_OT to produce'),\n",
       " (3, 'R'): docplex.mp.Var(type=I,name='Number of PCs for week 3_R to produce'),\n",
       " (3,\n",
       "  'OT'): docplex.mp.Var(type=I,name='Number of PCs for week 3_OT to produce'),\n",
       " (4, 'R'): docplex.mp.Var(type=I,name='Number of PCs for week 4_R to produce'),\n",
       " (4,\n",
       "  'OT'): docplex.mp.Var(type=I,name='Number of PCs for week 4_OT to produce'),\n",
       " (5, 'R'): docplex.mp.Var(type=I,name='Number of PCs for week 5_R to produce'),\n",
       " (5,\n",
       "  'OT'): docplex.mp.Var(type=I,name='Number of PCs for week 5_OT to produce'),\n",
       " (6, 'R'): docplex.mp.Var(type=I,name='Number of PCs for week 6_R to produce'),\n",
       " (6,\n",
       "  'OT'): docplex.mp.Var(type=I,name='Number of PCs for week 6_OT to produce')}"
      ]
     },
     "execution_count": 342,
     "metadata": {},
     "output_type": "execute_result"
    }
   ],
   "source": [
    "#Decion Variable\n",
    "x=((w,t) for w in W for t in T)\n",
    "Xwt=m.integer_var_dict(x, 0, None, name= \"Number of PCs for week %s to produce\")\n",
    "Xwt"
   ]
  },
  {
   "cell_type": "code",
   "execution_count": 343,
   "metadata": {},
   "outputs": [
    {
     "data": {
      "text/plain": [
       "{1: docplex.mp.Var(type=I,name='Number of PCs in inventory after week 1'),\n",
       " 2: docplex.mp.Var(type=I,name='Number of PCs in inventory after week 2'),\n",
       " 3: docplex.mp.Var(type=I,name='Number of PCs in inventory after week 3'),\n",
       " 4: docplex.mp.Var(type=I,name='Number of PCs in inventory after week 4'),\n",
       " 5: docplex.mp.Var(type=I,name='Number of PCs in inventory after week 5'),\n",
       " 6: docplex.mp.Var(type=I,name='Number of PCs in inventory after week 6')}"
      ]
     },
     "execution_count": 343,
     "metadata": {},
     "output_type": "execute_result"
    }
   ],
   "source": [
    "#Auxiliary variable\n",
    "Vw=m.integer_var_dict(W, 0, None, \"Number of PCs in inventory after week %s\")\n",
    "Vw"
   ]
  },
  {
   "cell_type": "code",
   "execution_count": 344,
   "metadata": {},
   "outputs": [],
   "source": [
    "#objective function\n",
    "m.minimize(m.sum(m.sum(Xwt[(w, t)]*Cap_Cost_t[t][1] for t in T) for w in W) + I*m.sum(Vw[w] for w in W))"
   ]
  },
  {
   "cell_type": "code",
   "execution_count": 345,
   "metadata": {},
   "outputs": [
    {
     "data": {
      "text/plain": [
       "docplex.mp.LinearConstraint[](Number of PCs in inventory after week 6,EQ,0)"
      ]
     },
     "execution_count": 345,
     "metadata": {},
     "output_type": "execute_result"
    }
   ],
   "source": [
    "#Constraints\n",
    "m.add_constraint(Vw[6]==0)"
   ]
  },
  {
   "cell_type": "code",
   "execution_count": 346,
   "metadata": {},
   "outputs": [
    {
     "data": {
      "text/plain": [
       "[docplex.mp.LinearConstraint[](Number of PCs for week 1_R to produce,LE,160),\n",
       " docplex.mp.LinearConstraint[](Number of PCs for week 2_R to produce,LE,160),\n",
       " docplex.mp.LinearConstraint[](Number of PCs for week 3_R to produce,LE,160),\n",
       " docplex.mp.LinearConstraint[](Number of PCs for week 4_R to produce,LE,160),\n",
       " docplex.mp.LinearConstraint[](Number of PCs for week 5_R to produce,LE,160),\n",
       " docplex.mp.LinearConstraint[](Number of PCs for week 6_R to produce,LE,160),\n",
       " docplex.mp.LinearConstraint[](Number of PCs for week 1_OT to produce,LE,50),\n",
       " docplex.mp.LinearConstraint[](Number of PCs for week 2_OT to produce,LE,50),\n",
       " docplex.mp.LinearConstraint[](Number of PCs for week 3_OT to produce,LE,50),\n",
       " docplex.mp.LinearConstraint[](Number of PCs for week 4_OT to produce,LE,50),\n",
       " docplex.mp.LinearConstraint[](Number of PCs for week 5_OT to produce,LE,50),\n",
       " docplex.mp.LinearConstraint[](Number of PCs for week 6_OT to produce,LE,50)]"
      ]
     },
     "execution_count": 346,
     "metadata": {},
     "output_type": "execute_result"
    }
   ],
   "source": [
    "#formulated for each weeks capacity by type\n",
    "m.add_constraints([Xwt[(w, t)]<=Cap_Cost_t[t][0] for t in T for w in W]) "
   ]
  },
  {
   "cell_type": "code",
   "execution_count": 347,
   "metadata": {},
   "outputs": [
    {
     "data": {
      "text/plain": [
       "[docplex.mp.LinearConstraint[](Number of PCs for week 2_R to produce+Number of PCs for week 2_OT to produce+Number of PCs in inventory after week 1,GE,170),\n",
       " docplex.mp.LinearConstraint[](Number of PCs for week 3_R to produce+Number of PCs for week 3_OT to produce+Number of PCs in inventory after week 2,GE,230),\n",
       " docplex.mp.LinearConstraint[](Number of PCs for week 4_R to produce+Number of PCs for week 4_OT to produce+Number of PCs in inventory after week 3,GE,180),\n",
       " docplex.mp.LinearConstraint[](Number of PCs for week 5_R to produce+Number of PCs for week 5_OT to produce+Number of PCs in inventory after week 4,GE,150),\n",
       " docplex.mp.LinearConstraint[](Number of PCs for week 6_R to produce+Number of PCs for week 6_OT to produce+Number of PCs in inventory after week 5,GE,250)]"
      ]
     },
     "execution_count": 347,
     "metadata": {},
     "output_type": "execute_result"
    }
   ],
   "source": [
    "m.add_constraints([m.sum(Xwt[(w,t)] for t in T)+ Vw[w-1] >= Ow[w] for w in W[1:]])"
   ]
  },
  {
   "cell_type": "code",
   "execution_count": 348,
   "metadata": {},
   "outputs": [
    {
     "data": {
      "text/plain": [
       "docplex.mp.LinearConstraint[](Number of PCs for week 1_R to produce+Number of PCs for week 1_OT to produce,GE,105)"
      ]
     },
     "execution_count": 348,
     "metadata": {},
     "output_type": "execute_result"
    }
   ],
   "source": [
    "m.add_constraint(m.sum(Xwt[(1,t)] for t in T)>= Ow[1])"
   ]
  },
  {
   "cell_type": "code",
   "execution_count": 349,
   "metadata": {},
   "outputs": [
    {
     "data": {
      "text/plain": [
       "[docplex.mp.LinearConstraint[](Number of PCs for week 2_R to produce+Number of PCs for week 2_OT to produce+Number of PCs in inventory after week 1-170,EQ,Number of PCs in inventory after week 2),\n",
       " docplex.mp.LinearConstraint[](Number of PCs for week 3_R to produce+Number of PCs for week 3_OT to produce+Number of PCs in inventory after week 2-230,EQ,Number of PCs in inventory after week 3),\n",
       " docplex.mp.LinearConstraint[](Number of PCs for week 4_R to produce+Number of PCs for week 4_OT to produce+Number of PCs in inventory after week 3-180,EQ,Number of PCs in inventory after week 4),\n",
       " docplex.mp.LinearConstraint[](Number of PCs for week 5_R to produce+Number of PCs for week 5_OT to produce+Number of PCs in inventory after week 4-150,EQ,Number of PCs in inventory after week 5),\n",
       " docplex.mp.LinearConstraint[](Number of PCs for week 6_R to produce+Number of PCs for week 6_OT to produce+Number of PCs in inventory after week 5-250,EQ,Number of PCs in inventory after week 6)]"
      ]
     },
     "execution_count": 349,
     "metadata": {},
     "output_type": "execute_result"
    }
   ],
   "source": [
    "m.add_constraints([m.sum(Xwt[(w,t)] for t in T) + Vw[w-1] - Ow[w] == Vw[w] for w in W[1:]])"
   ]
  },
  {
   "cell_type": "code",
   "execution_count": 350,
   "metadata": {},
   "outputs": [
    {
     "data": {
      "text/plain": [
       "docplex.mp.LinearConstraint[](Number of PCs for week 1_R to produce+Number of PCs for week 1_OT to produce-105,EQ,Number of PCs in inventory after week 1)"
      ]
     },
     "execution_count": 350,
     "metadata": {},
     "output_type": "execute_result"
    }
   ],
   "source": [
    "m.add_constraint(m.sum(Xwt[(1,t)] for t in T) - Ow[1] ==Vw[1])"
   ]
  },
  {
   "cell_type": "code",
   "execution_count": 351,
   "metadata": {},
   "outputs": [
    {
     "data": {
      "text/plain": [
       "'PC_Production_Planning.lp'"
      ]
     },
     "execution_count": 351,
     "metadata": {},
     "output_type": "execute_result"
    }
   ],
   "source": [
    "m.export_as_lp('PC_Production_Planning.lp')"
   ]
  },
  {
   "cell_type": "code",
   "execution_count": 352,
   "metadata": {},
   "outputs": [
    {
     "name": "stdout",
     "output_type": "stream",
     "text": [
      "Model: PC_Production_Planning\n",
      " - number of variables: 18\n",
      "   - binary=0, integer=18, continuous=0\n",
      " - number of constraints: 25\n",
      "   - linear=25\n",
      " - parameters: defaults\n",
      " - objective: minimize\n",
      " - problem type is: MILP\n"
     ]
    }
   ],
   "source": [
    "m.print_information()"
   ]
  },
  {
   "cell_type": "code",
   "execution_count": 353,
   "metadata": {},
   "outputs": [
    {
     "name": "stdout",
     "output_type": "stream",
     "text": [
      "JobSolveStatus.OPTIMAL_SOLUTION\n",
      "objective: 216300\n",
      "  \"Number of PCs for week 1_R to produce\"=160\n",
      "  \"Number of PCs for week 2_R to produce\"=160\n",
      "  \"Number of PCs for week 3_R to produce\"=160\n",
      "  \"Number of PCs for week 3_OT to produce\"=25\n",
      "  \"Number of PCs for week 4_R to produce\"=160\n",
      "  \"Number of PCs for week 4_OT to produce\"=20\n",
      "  \"Number of PCs for week 5_R to produce\"=160\n",
      "  \"Number of PCs for week 5_OT to produce\"=30\n",
      "  \"Number of PCs for week 6_R to produce\"=160\n",
      "  \"Number of PCs for week 6_OT to produce\"=50\n",
      "  \"Number of PCs in inventory after week 1\"=55\n",
      "  \"Number of PCs in inventory after week 2\"=45\n",
      "  \"Number of PCs in inventory after week 5\"=40\n"
     ]
    }
   ],
   "source": [
    "m.solve()\n",
    "print(m.solve_status)\n",
    "m.print_solution()\n"
   ]
  }
 ],
 "metadata": {
  "kernelspec": {
   "display_name": "base",
   "language": "python",
   "name": "python3"
  },
  "language_info": {
   "codemirror_mode": {
    "name": "ipython",
    "version": 3
   },
   "file_extension": ".py",
   "mimetype": "text/x-python",
   "name": "python",
   "nbconvert_exporter": "python",
   "pygments_lexer": "ipython3",
   "version": "3.8.8"
  },
  "orig_nbformat": 4,
  "vscode": {
   "interpreter": {
    "hash": "88279d2366fe020547cde40dd65aa0e3aa662a6ec1f3ca12d88834876c85e1a6"
   }
  }
 },
 "nbformat": 4,
 "nbformat_minor": 2
}
